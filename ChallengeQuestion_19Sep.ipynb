{
 "cells": [
  {
   "cell_type": "markdown",
   "id": "ce0d97f6",
   "metadata": {},
   "source": [
    "# Find the maximum number in a Python collection\n"
   ]
  },
  {
   "cell_type": "code",
   "execution_count": 77,
   "id": "780b1939",
   "metadata": {},
   "outputs": [],
   "source": [
    "def findmax(element):\n",
    "    #print(element, end=\" : \")\n",
    "    if type(element) in (list,tuple,set):\n",
    "        #print(\"I am a list\")\n",
    "        m = 0\n",
    "        for item in element:\n",
    "            item_max = findmax(item)\n",
    "            if item_max > m:\n",
    "                m = item_max \n",
    "    elif type(element) == dict:\n",
    "        #print(\"I am a dictionary\")\n",
    "        m = 0\n",
    "        for item in element:\n",
    "            key_max = findmax(item)  #maximum of key\n",
    "            val_max = findmax(element[item]) #maximum of value\n",
    "            item_max = key_max if key_max > val_max else val_max\n",
    "            if item_max > m:\n",
    "                m = item_max \n",
    "    elif type(element) in (str,complex):\n",
    "        #print(\"I am a string or complex\")\n",
    "        m = 0\n",
    "    elif type(element) in (int, float):\n",
    "        #print(\"I am a number\")\n",
    "        m = element\n",
    "    else:\n",
    "        m = 0\n",
    "    #print(f\"Maximum of {element} is {m}\")\n",
    "    return m\n",
    "\n",
    "def max_num(d):\n",
    "    maximum = findmax(d)\n",
    "    print(f\"Maximum : {maximum}\")"
   ]
  },
  {
   "cell_type": "code",
   "execution_count": 78,
   "id": "518e21d0",
   "metadata": {},
   "outputs": [
    {
     "name": "stdout",
     "output_type": "stream",
     "text": [
      "Maximum : 76\n"
     ]
    }
   ],
   "source": [
    "d1 = {\"ineuron\" : {\"a\": 23,\"b\": 76,\"c\": 56}, 'course': {\"d\":25, \"e\": 12}}\n",
    "max_num(d1)"
   ]
  },
  {
   "cell_type": "code",
   "execution_count": 79,
   "id": "66e67622",
   "metadata": {},
   "outputs": [
    {
     "name": "stdout",
     "output_type": "stream",
     "text": [
      "Maximum : 97\n"
     ]
    }
   ],
   "source": [
    "d1 = {\"ineuron\" : {\"a\": 23,\"b\": 76,\"c\": 56}, 'course': {\"d\":25, \"e\": 12}, 97: \"liji\"}\n",
    "max_num(d1)\n"
   ]
  },
  {
   "cell_type": "code",
   "execution_count": 80,
   "id": "c36110f4",
   "metadata": {},
   "outputs": [
    {
     "name": "stdout",
     "output_type": "stream",
     "text": [
      "Maximum : 3434\n"
     ]
    }
   ],
   "source": [
    "d1 = {\"ineuron\" : {\"a\": 23,\"b\": {'r': 3434},\"c\": 516}, 'course': {\"d\":25, \"e\": 12}, 97: \"liji\"}\n",
    "max_num(d1)"
   ]
  },
  {
   "cell_type": "code",
   "execution_count": 81,
   "id": "e2157ef3",
   "metadata": {},
   "outputs": [
    {
     "name": "stdout",
     "output_type": "stream",
     "text": [
      "Maximum : 187\n"
     ]
    }
   ],
   "source": [
    "d2 = {\"ineuron\" : {\"a\": 23,\"b\": {'r': 34},\"c\": 56}, 'course': {\"d\":25, \"e\": 12}, 97: \"liji\", 106: [110,187]}\n",
    "max_num(d2)"
   ]
  },
  {
   "cell_type": "code",
   "execution_count": 82,
   "id": "1da9b312",
   "metadata": {},
   "outputs": [
    {
     "name": "stdout",
     "output_type": "stream",
     "text": [
      "Maximum : 500\n"
     ]
    }
   ],
   "source": [
    "d3 = {(1,2,3,500) : {\"a\": 23,\"b\": {'r': 34},\"c\": 56}, 'course': {\"d\":25, \"e\": 12}, 97: \"liji\", 106: [110,187]}\n",
    "max_num(d3)"
   ]
  },
  {
   "cell_type": "code",
   "execution_count": 83,
   "id": "5f41e690",
   "metadata": {},
   "outputs": [
    {
     "name": "stdout",
     "output_type": "stream",
     "text": [
      "Maximum : 987.87\n"
     ]
    }
   ],
   "source": [
    "d3 = {(1,2,3,500) : {\"a\": 23,\"b\": {'r': 34},\"c\": 56}, 987.87: {\"d\":25, \"e\": 12}, 97: \"liji\", 106: [110,187]}\n",
    "max_num(d3)"
   ]
  },
  {
   "cell_type": "code",
   "execution_count": 84,
   "id": "3663f7ee",
   "metadata": {},
   "outputs": [
    {
     "name": "stdout",
     "output_type": "stream",
     "text": [
      "Maximum : 1000\n"
     ]
    }
   ],
   "source": [
    "d3 = {(1,2,3,500) : {\"a\": 23,\"b\": {'r': 34},\"c\": 56}, \n",
    "      987.87: {\"d\":25, \"e\": 12}, \n",
    "      97: \"liji\", \n",
    "      106: [110,187,{1:\"one\",100:\"hundred\",1000:\"thousand\"}]}\n",
    "max_num(d3)"
   ]
  },
  {
   "cell_type": "code",
   "execution_count": 85,
   "id": "bfc0cba1",
   "metadata": {},
   "outputs": [
    {
     "name": "stdout",
     "output_type": "stream",
     "text": [
      "Maximum : 12222\n"
     ]
    }
   ],
   "source": [
    "d4 = {(1,2,3,500) : {\"a\": 23,\"b\": {'r': 34},\"c\": 56}, \n",
    "      987.87: {\"d\":25, \"e\": {12,122,1222,12222}}, \n",
    "      97: \"liji\", \n",
    "      106: [110,187,{1:\"one\",100:\"hundred\",1000:\"thousand\"}]}\n",
    "max_num(d4)"
   ]
  },
  {
   "cell_type": "code",
   "execution_count": 86,
   "id": "9e62ce8b",
   "metadata": {},
   "outputs": [
    {
     "name": "stdout",
     "output_type": "stream",
     "text": [
      "Maximum : 1222\n"
     ]
    }
   ],
   "source": [
    "d4 = {(1,2,3,500) : {\"a\": 23,\"b\": {'r': 34},\"c\": 56}, \n",
    "      987.87: {\"d\":25, \"e\": {12,122,1222,122}}, \n",
    "      97: \"liji\", \n",
    "      106: [110, 187, {1: \"one\", 100: \"hundred\", 1000: \"thousand\"}, True, False]}\n",
    "max_num(d4)"
   ]
  },
  {
   "cell_type": "code",
   "execution_count": 87,
   "id": "1352e629",
   "metadata": {},
   "outputs": [
    {
     "name": "stdout",
     "output_type": "stream",
     "text": [
      "Maximum : 5000\n"
     ]
    }
   ],
   "source": [
    "d4 = {(1,2,3,(500,5000)) : {\"a\": 23,\"b\": {'r': 34},\"c\": 56}, \n",
    "      987.87: {\"d\":25, \"e\": {12,122,1222,12}}, \n",
    "      97: \"liji\", \n",
    "      106: [110, 187, {1: \"one\", 100: \"hundred\", 1000: \"thousand\"}, True, False]}\n",
    "max_num(d4)"
   ]
  },
  {
   "cell_type": "code",
   "execution_count": 88,
   "id": "ceae89ec",
   "metadata": {},
   "outputs": [
    {
     "name": "stdout",
     "output_type": "stream",
     "text": [
      "Maximum : 1234\n"
     ]
    }
   ],
   "source": [
    "list1 = [123,1234,{1:45,3:678}]\n",
    "max_num(list1)"
   ]
  },
  {
   "cell_type": "code",
   "execution_count": 89,
   "id": "be0cea8d",
   "metadata": {},
   "outputs": [
    {
     "name": "stdout",
     "output_type": "stream",
     "text": [
      "Maximum : 1212132\n"
     ]
    }
   ],
   "source": [
    "list1 = [123,1234,(1212132,1323),{1:45,3:678}]\n",
    "max_num(list1)"
   ]
  },
  {
   "cell_type": "code",
   "execution_count": null,
   "id": "e01840a6",
   "metadata": {},
   "outputs": [],
   "source": []
  }
 ],
 "metadata": {
  "kernelspec": {
   "display_name": "Python 3",
   "language": "python",
   "name": "python3"
  },
  "language_info": {
   "codemirror_mode": {
    "name": "ipython",
    "version": 3
   },
   "file_extension": ".py",
   "mimetype": "text/x-python",
   "name": "python",
   "nbconvert_exporter": "python",
   "pygments_lexer": "ipython3",
   "version": "3.8.8"
  }
 },
 "nbformat": 4,
 "nbformat_minor": 5
}
