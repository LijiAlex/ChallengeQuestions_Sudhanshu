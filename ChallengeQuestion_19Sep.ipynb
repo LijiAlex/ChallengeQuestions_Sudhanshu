{
 "cells": [
  {
   "cell_type": "markdown",
   "id": "f4b197de",
   "metadata": {},
   "source": [
    "# Find the maximum number in a Python collection\n"
   ]
  },
  {
   "cell_type": "code",
   "execution_count": 53,
   "id": "780b1939",
   "metadata": {},
   "outputs": [],
   "source": [
    "from collections.abc import Iterable\n",
    "\n",
    "def findmax(element):\n",
    "    #print(element, end=\" : \")\n",
    "    if type(element) in (list,tuple,set):\n",
    "        #print(\"I am a list\")\n",
    "        m = 0\n",
    "        for item in element:\n",
    "            item_max = findmax(item)\n",
    "            if item_max > m:\n",
    "                m = item_max \n",
    "    elif type(element) == dict:\n",
    "        #print(\"I am a dictionary\")\n",
    "        m = 0\n",
    "        for item in element:\n",
    "            key_max = findmax(item)  #maximum of key\n",
    "            val_max = findmax(element[item]) #maximum of value\n",
    "            item_max = key_max if key_max > val_max else val_max\n",
    "            if item_max > m:\n",
    "                m = item_max \n",
    "    elif type(element) in (str,complex):\n",
    "        #print(\"I am a string or complex\")\n",
    "        m = 0\n",
    "    elif type(element) in (int, float):\n",
    "        #print(\"I am a number\")\n",
    "        m = element\n",
    "    else:\n",
    "        m = 0\n",
    "    #print(f\"Maximum of {element} is {m}\")\n",
    "    return m\n",
    "\n",
    "def max_num(d):\n",
    "    maximum = 0\n",
    "    for elem in d:\n",
    "        m_key = findmax(elem)\n",
    "        m_val = findmax(d[elem])\n",
    "        m = m_key if m_key > m_val else m_val\n",
    "        if m > maximum :\n",
    "            maximum = m\n",
    "    print(maximum)"
   ]
  },
  {
   "cell_type": "code",
   "execution_count": 63,
   "id": "98ca3bf5",
   "metadata": {},
   "outputs": [
    {
     "name": "stdout",
     "output_type": "stream",
     "text": [
      "76\n"
     ]
    }
   ],
   "source": [
    "d1 = {\"ineuron\" : {\"a\": 23,\"b\": 76,\"c\": 56}, 'course': {\"d\":25, \"e\": 12}}\n",
    "max_num(d1)"
   ]
  },
  {
   "cell_type": "code",
   "execution_count": 54,
   "id": "66e67622",
   "metadata": {},
   "outputs": [
    {
     "name": "stdout",
     "output_type": "stream",
     "text": [
      "97\n"
     ]
    }
   ],
   "source": [
    "d1 = {\"ineuron\" : {\"a\": 23,\"b\": 76,\"c\": 56}, 'course': {\"d\":25, \"e\": 12}, 97: \"liji\"}\n",
    "max_num(d1)\n"
   ]
  },
  {
   "cell_type": "code",
   "execution_count": 55,
   "id": "78520ab4",
   "metadata": {},
   "outputs": [
    {
     "name": "stdout",
     "output_type": "stream",
     "text": [
      "3434\n"
     ]
    }
   ],
   "source": [
    "d1 = {\"ineuron\" : {\"a\": 23,\"b\": {'r': 3434},\"c\": 516}, 'course': {\"d\":25, \"e\": 12}, 97: \"liji\"}\n",
    "max_num(d1)"
   ]
  },
  {
   "cell_type": "code",
   "execution_count": 56,
   "id": "e2157ef3",
   "metadata": {},
   "outputs": [
    {
     "name": "stdout",
     "output_type": "stream",
     "text": [
      "187\n"
     ]
    }
   ],
   "source": [
    "d2 = {\"ineuron\" : {\"a\": 23,\"b\": {'r': 34},\"c\": 56}, 'course': {\"d\":25, \"e\": 12}, 97: \"liji\", 106: [110,187]}\n",
    "max_num(d2)"
   ]
  },
  {
   "cell_type": "code",
   "execution_count": 57,
   "id": "cb6897ee",
   "metadata": {},
   "outputs": [
    {
     "name": "stdout",
     "output_type": "stream",
     "text": [
      "500\n"
     ]
    }
   ],
   "source": [
    "d3 = {(1,2,3,500) : {\"a\": 23,\"b\": {'r': 34},\"c\": 56}, 'course': {\"d\":25, \"e\": 12}, 97: \"liji\", 106: [110,187]}\n",
    "max_num(d3)"
   ]
  },
  {
   "cell_type": "code",
   "execution_count": 58,
   "id": "5f41e690",
   "metadata": {},
   "outputs": [
    {
     "name": "stdout",
     "output_type": "stream",
     "text": [
      "987.87\n"
     ]
    }
   ],
   "source": [
    "d3 = {(1,2,3,500) : {\"a\": 23,\"b\": {'r': 34},\"c\": 56}, 987.87: {\"d\":25, \"e\": 12}, 97: \"liji\", 106: [110,187]}\n",
    "max_num(d3)"
   ]
  },
  {
   "cell_type": "code",
   "execution_count": 59,
   "id": "9c8a302b",
   "metadata": {},
   "outputs": [
    {
     "name": "stdout",
     "output_type": "stream",
     "text": [
      "1000\n"
     ]
    }
   ],
   "source": [
    "d3 = {(1,2,3,500) : {\"a\": 23,\"b\": {'r': 34},\"c\": 56}, \n",
    "      987.87: {\"d\":25, \"e\": 12}, \n",
    "      97: \"liji\", \n",
    "      106: [110,187,{1:\"one\",100:\"hundred\",1000:\"thousand\"}]}\n",
    "max_num(d3)"
   ]
  },
  {
   "cell_type": "code",
   "execution_count": 60,
   "id": "f49367c2",
   "metadata": {},
   "outputs": [
    {
     "name": "stdout",
     "output_type": "stream",
     "text": [
      "12222\n"
     ]
    }
   ],
   "source": [
    "d4 = {(1,2,3,500) : {\"a\": 23,\"b\": {'r': 34},\"c\": 56}, \n",
    "      987.87: {\"d\":25, \"e\": {12,122,1222,12222}}, \n",
    "      97: \"liji\", \n",
    "      106: [110,187,{1:\"one\",100:\"hundred\",1000:\"thousand\"}]}\n",
    "max_num(d4)"
   ]
  },
  {
   "cell_type": "code",
   "execution_count": 61,
   "id": "9d57fbf5",
   "metadata": {},
   "outputs": [
    {
     "name": "stdout",
     "output_type": "stream",
     "text": [
      "1222\n"
     ]
    }
   ],
   "source": [
    "d4 = {(1,2,3,500) : {\"a\": 23,\"b\": {'r': 34},\"c\": 56}, \n",
    "      987.87: {\"d\":25, \"e\": {12,122,1222,122}}, \n",
    "      97: \"liji\", \n",
    "      106: [110, 187, {1: \"one\", 100: \"hundred\", 1000: \"thousand\"}, True, False]}\n",
    "max_num(d4)"
   ]
  },
  {
   "cell_type": "code",
   "execution_count": 62,
   "id": "0f60c1a9",
   "metadata": {},
   "outputs": [
    {
     "name": "stdout",
     "output_type": "stream",
     "text": [
      "5000\n"
     ]
    }
   ],
   "source": [
    "d4 = {(1,2,3,(500,5000)) : {\"a\": 23,\"b\": {'r': 34},\"c\": 56}, \n",
    "      987.87: {\"d\":25, \"e\": {12,122,1222,12}}, \n",
    "      97: \"liji\", \n",
    "      106: [110, 187, {1: \"one\", 100: \"hundred\", 1000: \"thousand\"}, True, False]}\n",
    "max_num(d4)"
   ]
  }
 ],
 "metadata": {
  "kernelspec": {
   "display_name": "Python 3",
   "language": "python",
   "name": "python3"
  },
  "language_info": {
   "codemirror_mode": {
    "name": "ipython",
    "version": 3
   },
   "file_extension": ".py",
   "mimetype": "text/x-python",
   "name": "python",
   "nbconvert_exporter": "python",
   "pygments_lexer": "ipython3",
   "version": "3.8.8"
  }
 },
 "nbformat": 4,
 "nbformat_minor": 5
}
